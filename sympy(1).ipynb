{
 "cells": [
  {
   "cell_type": "markdown",
   "id": "b568f976",
   "metadata": {},
   "source": [
    "# Rozendox\n",
    "\n",
    "### revisão sympy"
   ]
  },
  {
   "cell_type": "code",
   "execution_count": 1,
   "id": "765c8dcd",
   "metadata": {},
   "outputs": [
    {
     "data": {
      "text/latex": [
       "$\\displaystyle x^{2}$"
      ],
      "text/plain": [
       "x**2"
      ]
     },
     "execution_count": 1,
     "metadata": {},
     "output_type": "execute_result"
    }
   ],
   "source": [
    "import sympy as sp\n",
    "\n",
    "x = sp.symbols('x')\n",
    "\n",
    "x*x"
   ]
  },
  {
   "cell_type": "code",
   "execution_count": 2,
   "id": "4b366a53",
   "metadata": {},
   "outputs": [
    {
     "data": {
      "image/png": "[encoded data removed]",
      "text/latex": [
       "$\\displaystyle x^{2} + x y + y^{2}$"
      ],
      "text/plain": [
       " 2          2\n",
       "x  + x⋅y + y "
      ]
     },
     "execution_count": 2,
     "metadata": {},
     "output_type": "execute_result"
    }
   ],
   "source": [
    "sp.init_printing()\n",
    "\n",
    "Lista_simbolos = ['y', 'x']\n",
    "y,x = sp.symbols(Lista_simbolos)\n",
    "\n",
    "f_x_y = x**2 + y **2 + x*y\n",
    "f_x_y"
   ]
  },
  {
   "cell_type": "code",
   "execution_count": 3,
   "id": "01e8309b",
   "metadata": {},
   "outputs": [
    {
     "data": {
      "image/png": "[encoded data removed]",
      "text/latex": [
       "$\\displaystyle 7$"
      ],
      "text/plain": [
       "7"
      ]
     },
     "execution_count": 3,
     "metadata": {},
     "output_type": "execute_result"
    }
   ],
   "source": [
    "resposta = f_x_y.subs(x,1).subs(y,2)\n",
    "resposta\n"
   ]
  },
  {
   "cell_type": "code",
   "execution_count": 4,
   "id": "d9a737fc",
   "metadata": {},
   "outputs": [
    {
     "data": {
      "image/png": "[encoded data removed]",
      "text/latex": [
       "$\\displaystyle x^{2} + 4 x y + 3 y^{2}$"
      ],
      "text/plain": [
       " 2              2\n",
       "x  + 4⋅x⋅y + 3⋅y "
      ]
     },
     "execution_count": 4,
     "metadata": {},
     "output_type": "execute_result"
    }
   ],
   "source": [
    "f_xy = (x+y)**2 + y**2 + 2*x*y + y**2\n",
    "sp.simplify(f_xy)"
   ]
  },
  {
   "cell_type": "code",
   "execution_count": 5,
   "id": "bde1e65d",
   "metadata": {},
   "outputs": [
    {
     "data": {
      "image/png": "[encoded data removed]",
      "text/latex": [
       "$\\displaystyle x \\leq y$"
      ],
      "text/plain": [
       "x ≤ y"
      ]
     },
     "execution_count": 5,
     "metadata": {},
     "output_type": "execute_result"
    }
   ],
   "source": [
    "x<=y"
   ]
  },
  {
   "cell_type": "markdown",
   "id": "58afe54f",
   "metadata": {},
   "source": [
    "## matrizes"
   ]
  },
  {
   "cell_type": "code",
   "execution_count": 6,
   "id": "27c4bf1d",
   "metadata": {},
   "outputs": [
    {
     "data": {
      "image/png": "[encoded data removed]",
      "text/latex": [
       "$\\displaystyle \\left( 2, \\  3\\right)$"
      ],
      "text/plain": [
       "(2, 3)"
      ]
     },
     "execution_count": 6,
     "metadata": {},
     "output_type": "execute_result"
    }
   ],
   "source": [
    "a = sp.Matrix([[1,2,3],[4,5,6]])\n",
    "a.shape"
   ]
  },
  {
   "cell_type": "code",
   "execution_count": 7,
   "id": "8ab86ea5",
   "metadata": {},
   "outputs": [
    {
     "data": {
      "text/plain": [
       "False"
      ]
     },
     "execution_count": 7,
     "metadata": {},
     "output_type": "execute_result"
    }
   ],
   "source": [
    "B = sp.Matrix([[1,2,3]])\n",
    "C = sp.Matrix([[1],[2],[3]])\n",
    "D = sp.Matrix([1,2,3])\n",
    "\n",
    "B == D"
   ]
  },
  {
   "cell_type": "code",
   "execution_count": 8,
   "id": "476ff990",
   "metadata": {},
   "outputs": [
    {
     "data": {
      "image/png": "[encoded data removed]",
      "text/latex": [
       "$\\displaystyle 504$"
      ],
      "text/plain": [
       "504"
      ]
     },
     "execution_count": 8,
     "metadata": {},
     "output_type": "execute_result"
    }
   ],
   "source": [
    "I = sp.zeros(3)\n",
    "\n",
    "lista_E = [7,8,9]\n",
    "\n",
    "E = sp.diag(*lista_E)\n",
    "\n",
    "E.det()"
   ]
  },
  {
   "cell_type": "code",
   "execution_count": 9,
   "id": "72008eea",
   "metadata": {},
   "outputs": [],
   "source": [
    "#sistema linear\n"
   ]
  },
  {
   "cell_type": "code",
   "execution_count": 16,
   "id": "1c45ebeb",
   "metadata": {},
   "outputs": [
    {
     "data": {
      "text/latex": [
       "$\\displaystyle \\left[\\begin{matrix}x_{1} + 2 x_{2} + 3 x_{3} - 11\\\\4 x_{1} + 5 x_{2} + 6 x_{3} - 22\\\\7 x_{1} + 8 x_{2} + 9 x_{3} - 33\\end{matrix}\\right]$"
      ],
      "text/plain": [
       "⎡ x₁ + 2⋅x₂ + 3⋅x₃ - 11 ⎤\n",
       "⎢                       ⎥\n",
       "⎢4⋅x₁ + 5⋅x₂ + 6⋅x₃ - 22⎥\n",
       "⎢                       ⎥\n",
       "⎣7⋅x₁ + 8⋅x₂ + 9⋅x₃ - 33⎦"
      ]
     },
     "execution_count": 16,
     "metadata": {},
     "output_type": "execute_result"
    }
   ],
   "source": [
    "x1,x2,x3 = sp.symbols(['x1','x2','x3'])\n",
    "\n",
    "X = sp.Matrix([x1,x2,x3])\n",
    "E = sp.Matrix([[1,2,3], [4,5,6],[7,8,9]])\n",
    "R = sp.Matrix([11,22,33])\n",
    "\n",
    "#EX = R\n",
    "\n",
    "E*X - R\n",
    "\n"
   ]
  },
  {
   "cell_type": "markdown",
   "id": "68121d3e",
   "metadata": {},
   "source": [
    "# Derivadas\n",
    "\n",
    "\n",
    "\n",
    "### Dadas as funções, calcule sua derivada de primeira ordem e sua primitiva (integral sem limites de integração).\n",
    "\n",
    "                                        A(x) = e * x\n",
    "                                        B(x) = x**3\n",
    "                                        C(X) = 1/x\n",
    "                                        \n",
    "                                        \n",
    "\n",
    "##### Nota: O sympy não acrescenta constantes para integrais indefinidas, elas devem ser acrescentadas manualmente."
   ]
  },
  {
   "cell_type": "code",
   "execution_count": null,
   "id": "34879a13",
   "metadata": {},
   "outputs": [],
   "source": [
    "# x = sp.symbols('x')\n",
    "    \n",
    "A_x = sp.exp(x)\n",
    "B_x = x**3\n",
    "C_x = 1/x"
   ]
  },
  {
   "cell_type": "code",
   "execution_count": 15,
   "id": "08f8d8de",
   "metadata": {},
   "outputs": [
    {
     "data": {
      "text/latex": [
       "$\\displaystyle e^{x}$"
      ],
      "text/plain": [
       "exp(x)"
      ]
     },
     "execution_count": 15,
     "metadata": {},
     "output_type": "execute_result"
    }
   ],
   "source": [
    "#Derivada\n",
    "sp.diff(A_x,x)\n",
    "#é ela mesma"
   ]
  },
  {
   "cell_type": "code",
   "execution_count": 16,
   "id": "62dd1339",
   "metadata": {},
   "outputs": [
    {
     "data": {
      "text/latex": [
       "$\\displaystyle e^{x}$"
      ],
      "text/plain": [
       "exp(x)"
      ]
     },
     "execution_count": 16,
     "metadata": {},
     "output_type": "execute_result"
    }
   ],
   "source": [
    "sp.integrate(A_x,x)"
   ]
  },
  {
   "cell_type": "code",
   "execution_count": 8,
   "id": "3d8a9420",
   "metadata": {},
   "outputs": [
    {
     "data": {
      "text/latex": [
       "$\\displaystyle \\frac{x^{4}}{4}$"
      ],
      "text/plain": [
       "x**4/4"
      ]
     },
     "execution_count": 8,
     "metadata": {},
     "output_type": "execute_result"
    }
   ],
   "source": [
    "sp.diff(B_x,x)\n"
   ]
  },
  {
   "cell_type": "code",
   "execution_count": 11,
   "id": "86dc078b",
   "metadata": {},
   "outputs": [
    {
     "data": {
      "text/latex": [
       "$\\displaystyle \\frac{x^{4}}{4}$"
      ],
      "text/plain": [
       "x**4/4"
      ]
     },
     "execution_count": 11,
     "metadata": {},
     "output_type": "execute_result"
    }
   ],
   "source": [
    "sp.integrate(B_x,x)"
   ]
  },
  {
   "cell_type": "code",
   "execution_count": 9,
   "id": "494e0619",
   "metadata": {},
   "outputs": [
    {
     "data": {
      "text/latex": [
       "$\\displaystyle - \\frac{1}{x^{2}}$"
      ],
      "text/plain": [
       "-1/x**2"
      ]
     },
     "execution_count": 9,
     "metadata": {},
     "output_type": "execute_result"
    }
   ],
   "source": [
    "sp.diff(C_x,x)"
   ]
  },
  {
   "cell_type": "code",
   "execution_count": 10,
   "id": "eb1bb6c3",
   "metadata": {},
   "outputs": [
    {
     "data": {
      "text/latex": [
       "$\\displaystyle \\log{\\left(x \\right)}$"
      ],
      "text/plain": [
       "log(x)"
      ]
     },
     "execution_count": 10,
     "metadata": {},
     "output_type": "execute_result"
    }
   ],
   "source": [
    "sp.integrate(C_x,x)"
   ]
  },
  {
   "cell_type": "markdown",
   "id": "f23a4ee9",
   "metadata": {},
   "source": [
    "## integral dupla\n",
    "\n",
    "\n",
    "#### a(x,y) =  ax.dy\n",
    "\n",
    "###### considerando 0 menor igual x menor igual a 3, menor igual a y, menor igual a 4."
   ]
  },
  {
   "cell_type": "code",
   "execution_count": 17,
   "id": "4879d6e7",
   "metadata": {},
   "outputs": [],
   "source": [
    "x,y = sp.symbols(['x','y'])"
   ]
  },
  {
   "cell_type": "code",
   "execution_count": 18,
   "id": "e5f84fe4",
   "metadata": {},
   "outputs": [
    {
     "data": {
      "text/latex": [
       "$\\displaystyle 12$"
      ],
      "text/plain": [
       "12"
      ]
     },
     "execution_count": 18,
     "metadata": {},
     "output_type": "execute_result"
    }
   ],
   "source": [
    "\n",
    "#primeiro coloca-se a função que é 1\n",
    "\n",
    "#depois cria-se uma tupla,\n",
    "#coloca-se a variável (x)\n",
    "#o limite inferior (0)\n",
    "#e depois o limite superior(3)\n",
    "\n",
    "#para ser dupla cria-se mais um argumento, no caso \"y,0,4\"\n",
    "sp.integrate(1,(x,0,3),(y,0,4))"
   ]
  },
  {
   "cell_type": "code",
   "execution_count": null,
   "id": "1b426559",
   "metadata": {},
   "outputs": [],
   "source": []
  }
 ],
 "metadata": {
  "kernelspec": {
   "display_name": "Python 3 (ipykernel)",
   "language": "python",
   "name": "python3"
  },
  "language_info": {
   "codemirror_mode": {
    "name": "ipython",
    "version": 3
   },
   "file_extension": ".py",
   "mimetype": "text/x-python",
   "name": "python",
   "nbconvert_exporter": "python",
   "pygments_lexer": "ipython3",
   "version": "3.9.13"
  }
 },
 "nbformat": 4,
 "nbformat_minor": 5
}
